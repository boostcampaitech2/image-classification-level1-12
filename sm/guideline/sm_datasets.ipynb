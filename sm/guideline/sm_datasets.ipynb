{
 "metadata": {
  "language_info": {
   "codemirror_mode": {
    "name": "ipython",
    "version": 3
   },
   "file_extension": ".py",
   "mimetype": "text/x-python",
   "name": "python",
   "nbconvert_exporter": "python",
   "pygments_lexer": "ipython3",
   "version": "3.8.5"
  },
  "orig_nbformat": 2,
  "kernelspec": {
   "name": "python3",
   "display_name": "Python 3.8.5 64-bit",
   "metadata": {
    "interpreter": {
     "hash": "6e5262017548a2b455e3c33d8630dbac676c51a278f558e9b73cd2cf5fc8a1af"
    }
   }
  }
 },
 "nbformat": 4,
 "nbformat_minor": 2,
 "cells": [
  {
   "cell_type": "code",
   "execution_count": 1,
   "metadata": {},
   "outputs": [],
   "source": [
    "from PIL import Image\n",
    "import pandas as pd\n",
    "import os"
   ]
  },
  {
   "cell_type": "code",
   "execution_count": 18,
   "metadata": {},
   "outputs": [],
   "source": [
    "\n",
    "class MakeLocateDataFrame():\n",
    "    \n",
    "    def __init__(self, type: bool):\n",
    "\n",
    "        self.type = type\n",
    "        self.root = r'/opt/ml/data/'\n",
    "        if self.type:\n",
    "            self.root += 'train'\n",
    "        else:\n",
    "            self.root += 'eval'\n",
    "\n",
    "    def get_csv(self):\n",
    "        datas = None\n",
    "\n",
    "        if self.type:\n",
    "            datas = pd.read_csv(self.root+'/train.csv')\n",
    "            datas = datas.drop(['race','id'],axis=1)\n",
    "\n",
    "        else:\n",
    "            datas = pd.read_csv(self.root+'/info.csv')\n",
    "\n",
    "        return datas\n",
    "\n",
    "    def make_image_locate_frame(self, datas):\n",
    "        \n",
    "        labeled_dict = None\n",
    "        #train = True 인 경우\n",
    "        if self.type:\n",
    "            # 이미지 경로를 담은 리스트 생성\n",
    "            image_locate = [self.root+'/images/'+i for i in datas['path']]\n",
    "            images = []\n",
    "            # 경로 안에 있는 숨김 파일은 제거하고 이미지만 저장\n",
    "            for i in image_locate:\n",
    "                temp = []\n",
    "                for j in os.listdir(i):\n",
    "                    if not j[0] == '.':\n",
    "                        temp.append(i+'/'+j)\n",
    "                images.append(temp)\n",
    "            # 파일 이름으로 클래스를 구분하기 위한 문자\n",
    "            file_name_string = 'min'\n",
    "            #새롭게 반환할 데이터 프레임의 틀\n",
    "            labeled_dict = {\"label\": [],\n",
    "                            \"gender\": [],\n",
    "                            \"age\": [],\n",
    "                            \"locate\": []}\n",
    "\n",
    "            for image in images:\n",
    "                for j in image:\n",
    "                    #/opt/ml/data/train/images/000002_female_Asian_52/normal.jpg 자른 것\n",
    "                    get_locate_file = j.split('/')\n",
    "                    #가장 끝의 파일은 이미지 이름이다.\n",
    "                    label = file_name_string.index(get_locate_file[-1][0])\n",
    "                    start = label * 6\n",
    "                    #000002_female_Asian_52 잘라서 굳이 위에 선언한 데이터 불러오지 않고 수행\n",
    "                    _, sex, _, age = get_locate_file[-2].split('_')\n",
    "                    age = int(age)\n",
    "                    if sex == 'female':\n",
    "                        start +=3\n",
    "                    if age < 30:\n",
    "                        pass\n",
    "                    elif age < 60:\n",
    "                        start +=1\n",
    "                    else:\n",
    "                        start +=2\n",
    "                    labeled_dict['label'].append(start)\n",
    "                    labeled_dict['gender'].append(sex)\n",
    "                    labeled_dict['age'].append(age)\n",
    "                    labeled_dict['locate'].append(j)\n",
    "\n",
    "            labeled_dict = pd.DataFrame(labeled_dict, columns=labeled_dict.keys())\n",
    "\n",
    "        else:\n",
    "            datas['locate'] = [self.root+'/images/'+i for i in datas['ImageID']]\n",
    "            labeled_dict = datas\n",
    "\n",
    "        return labeled_dict"
   ]
  },
  {
   "cell_type": "code",
   "execution_count": 19,
   "metadata": {
    "tags": []
   },
   "outputs": [
    {
     "output_type": "execute_result",
     "data": {
      "text/plain": [
       "                                            ImageID  ans  \\\n",
       "0      cbc5c6e168e63498590db46022617123f1fe1268.jpg    0   \n",
       "1      0e72482bf56b3581c081f7da2a6180b8792c7089.jpg    0   \n",
       "2      b549040c49190cedc41327748aeb197c1670f14d.jpg    0   \n",
       "3      4f9cb2a045c6d5b9e50ad3459ea7b791eb6e18bc.jpg    0   \n",
       "4      248428d9a4a5b6229a7081c32851b90cb8d38d0c.jpg    0   \n",
       "...                                             ...  ...   \n",
       "12595  d71d4570505d6af8f777690e63edfa8d85ea4476.jpg    0   \n",
       "12596  6cf1300e8e218716728d5820c0bab553306c2cfd.jpg    0   \n",
       "12597  8140edbba31c3a824e817e6d5fb95343199e2387.jpg    0   \n",
       "12598  030d439efe6fb5a7bafda45a393fc19f2bf57f54.jpg    0   \n",
       "12599  f1e0b9594ae9f72571f0a9dc67406ad41f2edab0.jpg    0   \n",
       "\n",
       "                                                  locate  \n",
       "0      /opt/ml/data/eval/images/cbc5c6e168e63498590db...  \n",
       "1      /opt/ml/data/eval/images/0e72482bf56b3581c081f...  \n",
       "2      /opt/ml/data/eval/images/b549040c49190cedc4132...  \n",
       "3      /opt/ml/data/eval/images/4f9cb2a045c6d5b9e50ad...  \n",
       "4      /opt/ml/data/eval/images/248428d9a4a5b6229a708...  \n",
       "...                                                  ...  \n",
       "12595  /opt/ml/data/eval/images/d71d4570505d6af8f7776...  \n",
       "12596  /opt/ml/data/eval/images/6cf1300e8e218716728d5...  \n",
       "12597  /opt/ml/data/eval/images/8140edbba31c3a824e817...  \n",
       "12598  /opt/ml/data/eval/images/030d439efe6fb5a7bafda...  \n",
       "12599  /opt/ml/data/eval/images/f1e0b9594ae9f72571f0a...  \n",
       "\n",
       "[12600 rows x 3 columns]"
      ],
      "text/html": "<div>\n<style scoped>\n    .dataframe tbody tr th:only-of-type {\n        vertical-align: middle;\n    }\n\n    .dataframe tbody tr th {\n        vertical-align: top;\n    }\n\n    .dataframe thead th {\n        text-align: right;\n    }\n</style>\n<table border=\"1\" class=\"dataframe\">\n  <thead>\n    <tr style=\"text-align: right;\">\n      <th></th>\n      <th>ImageID</th>\n      <th>ans</th>\n      <th>locate</th>\n    </tr>\n  </thead>\n  <tbody>\n    <tr>\n      <th>0</th>\n      <td>cbc5c6e168e63498590db46022617123f1fe1268.jpg</td>\n      <td>0</td>\n      <td>/opt/ml/data/eval/images/cbc5c6e168e63498590db...</td>\n    </tr>\n    <tr>\n      <th>1</th>\n      <td>0e72482bf56b3581c081f7da2a6180b8792c7089.jpg</td>\n      <td>0</td>\n      <td>/opt/ml/data/eval/images/0e72482bf56b3581c081f...</td>\n    </tr>\n    <tr>\n      <th>2</th>\n      <td>b549040c49190cedc41327748aeb197c1670f14d.jpg</td>\n      <td>0</td>\n      <td>/opt/ml/data/eval/images/b549040c49190cedc4132...</td>\n    </tr>\n    <tr>\n      <th>3</th>\n      <td>4f9cb2a045c6d5b9e50ad3459ea7b791eb6e18bc.jpg</td>\n      <td>0</td>\n      <td>/opt/ml/data/eval/images/4f9cb2a045c6d5b9e50ad...</td>\n    </tr>\n    <tr>\n      <th>4</th>\n      <td>248428d9a4a5b6229a7081c32851b90cb8d38d0c.jpg</td>\n      <td>0</td>\n      <td>/opt/ml/data/eval/images/248428d9a4a5b6229a708...</td>\n    </tr>\n    <tr>\n      <th>...</th>\n      <td>...</td>\n      <td>...</td>\n      <td>...</td>\n    </tr>\n    <tr>\n      <th>12595</th>\n      <td>d71d4570505d6af8f777690e63edfa8d85ea4476.jpg</td>\n      <td>0</td>\n      <td>/opt/ml/data/eval/images/d71d4570505d6af8f7776...</td>\n    </tr>\n    <tr>\n      <th>12596</th>\n      <td>6cf1300e8e218716728d5820c0bab553306c2cfd.jpg</td>\n      <td>0</td>\n      <td>/opt/ml/data/eval/images/6cf1300e8e218716728d5...</td>\n    </tr>\n    <tr>\n      <th>12597</th>\n      <td>8140edbba31c3a824e817e6d5fb95343199e2387.jpg</td>\n      <td>0</td>\n      <td>/opt/ml/data/eval/images/8140edbba31c3a824e817...</td>\n    </tr>\n    <tr>\n      <th>12598</th>\n      <td>030d439efe6fb5a7bafda45a393fc19f2bf57f54.jpg</td>\n      <td>0</td>\n      <td>/opt/ml/data/eval/images/030d439efe6fb5a7bafda...</td>\n    </tr>\n    <tr>\n      <th>12599</th>\n      <td>f1e0b9594ae9f72571f0a9dc67406ad41f2edab0.jpg</td>\n      <td>0</td>\n      <td>/opt/ml/data/eval/images/f1e0b9594ae9f72571f0a...</td>\n    </tr>\n  </tbody>\n</table>\n<p>12600 rows × 3 columns</p>\n</div>"
     },
     "metadata": {},
     "execution_count": 19
    }
   ],
   "source": [
    "a = MakeLocateDataFrame(False)\n",
    "\n",
    "data = a.get_csv()\n",
    "# data\n",
    "a.make_image_locate_frame(data)\n",
    "# pd.read_csv(a.root+'/info.csv')"
   ]
  },
  {
   "cell_type": "code",
   "execution_count": 4,
   "metadata": {},
   "outputs": [
    {
     "output_type": "stream",
     "name": "stdout",
     "text": [
      "0.001\n"
     ]
    }
   ],
   "source": [
    "from torchvision import models\n",
    "import torch.optim as optim\n",
    "\n",
    "models = models.resnet18(pretrained=True)\n",
    "optm = optim.Adam(models.parameters(), lr=0.001)\n",
    "lr = optim.lr_scheduler.ReduceLROnPlateau(optm, mode='max',factor=0.5, patience=2)\n",
    "print(lr.optimizer)\n",
    "print(optm.state_dict()['param_groups'][0]['lr'])"
   ]
  },
  {
   "cell_type": "code",
   "execution_count": null,
   "metadata": {},
   "outputs": [],
   "source": []
  }
 ]
}