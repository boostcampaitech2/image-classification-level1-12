{
 "cells": [
  {
   "cell_type": "code",
   "execution_count": 80,
   "id": "143d76d7-95d8-4570-a81f-8c61c440b169",
   "metadata": {},
   "outputs": [],
   "source": [
    "import os\n",
    "from PIL import Image\n",
    "import numpy as np\n",
    "import pandas as pd\n",
    "from torch.utils.data import Dataset\n",
    "import tqdm\n",
    "import matplotlib.pyplot as plt"
   ]
  },
  {
   "cell_type": "code",
   "execution_count": 33,
   "id": "df66ce9e-8858-4636-907c-153c1f7814e9",
   "metadata": {},
   "outputs": [
    {
     "name": "stdout",
     "output_type": "stream",
     "text": [
      "/opt/ml/data/train/classify\n",
      "/opt/ml/data/train/classify\n"
     ]
    }
   ],
   "source": [
    "%cd /opt/ml/data/train/classify\n",
    "!pwd\n",
    "!mkdir class0 class1 class2 class3 class4 class5 class6 class7 class8 class9 class10 class11 class12 class13 class14 class15"
   ]
  },
  {
   "cell_type": "code",
   "execution_count": 112,
   "id": "180b873b-4e59-49a3-883c-8f16e236c051",
   "metadata": {},
   "outputs": [
    {
     "data": {
      "text/html": [
       "<div>\n",
       "<style scoped>\n",
       "    .dataframe tbody tr th:only-of-type {\n",
       "        vertical-align: middle;\n",
       "    }\n",
       "\n",
       "    .dataframe tbody tr th {\n",
       "        vertical-align: top;\n",
       "    }\n",
       "\n",
       "    .dataframe thead th {\n",
       "        text-align: right;\n",
       "    }\n",
       "</style>\n",
       "<table border=\"1\" class=\"dataframe\">\n",
       "  <thead>\n",
       "    <tr style=\"text-align: right;\">\n",
       "      <th></th>\n",
       "      <th>id</th>\n",
       "      <th>gender</th>\n",
       "      <th>race</th>\n",
       "      <th>age</th>\n",
       "      <th>path</th>\n",
       "    </tr>\n",
       "  </thead>\n",
       "  <tbody>\n",
       "    <tr>\n",
       "      <th>899</th>\n",
       "      <td>001652</td>\n",
       "      <td>female</td>\n",
       "      <td>Asian</td>\n",
       "      <td>35</td>\n",
       "      <td>001652_female_Asian_35</td>\n",
       "    </tr>\n",
       "    <tr>\n",
       "      <th>900</th>\n",
       "      <td>001653</td>\n",
       "      <td>female</td>\n",
       "      <td>Asian</td>\n",
       "      <td>36</td>\n",
       "      <td>001653_female_Asian_36</td>\n",
       "    </tr>\n",
       "    <tr>\n",
       "      <th>901</th>\n",
       "      <td>001655</td>\n",
       "      <td>female</td>\n",
       "      <td>Asian</td>\n",
       "      <td>58</td>\n",
       "      <td>001655_female_Asian_58</td>\n",
       "    </tr>\n",
       "    <tr>\n",
       "      <th>902</th>\n",
       "      <td>001656</td>\n",
       "      <td>female</td>\n",
       "      <td>Asian</td>\n",
       "      <td>60</td>\n",
       "      <td>001656_female_Asian_60</td>\n",
       "    </tr>\n",
       "    <tr>\n",
       "      <th>903</th>\n",
       "      <td>001657</td>\n",
       "      <td>female</td>\n",
       "      <td>Asian</td>\n",
       "      <td>18</td>\n",
       "      <td>001657_female_Asian_18</td>\n",
       "    </tr>\n",
       "    <tr>\n",
       "      <th>...</th>\n",
       "      <td>...</td>\n",
       "      <td>...</td>\n",
       "      <td>...</td>\n",
       "      <td>...</td>\n",
       "      <td>...</td>\n",
       "    </tr>\n",
       "    <tr>\n",
       "      <th>2695</th>\n",
       "      <td>006954</td>\n",
       "      <td>male</td>\n",
       "      <td>Asian</td>\n",
       "      <td>19</td>\n",
       "      <td>006954_male_Asian_19</td>\n",
       "    </tr>\n",
       "    <tr>\n",
       "      <th>2696</th>\n",
       "      <td>006955</td>\n",
       "      <td>male</td>\n",
       "      <td>Asian</td>\n",
       "      <td>19</td>\n",
       "      <td>006955_male_Asian_19</td>\n",
       "    </tr>\n",
       "    <tr>\n",
       "      <th>2697</th>\n",
       "      <td>006956</td>\n",
       "      <td>male</td>\n",
       "      <td>Asian</td>\n",
       "      <td>19</td>\n",
       "      <td>006956_male_Asian_19</td>\n",
       "    </tr>\n",
       "    <tr>\n",
       "      <th>2698</th>\n",
       "      <td>006957</td>\n",
       "      <td>male</td>\n",
       "      <td>Asian</td>\n",
       "      <td>20</td>\n",
       "      <td>006957_male_Asian_20</td>\n",
       "    </tr>\n",
       "    <tr>\n",
       "      <th>2699</th>\n",
       "      <td>006959</td>\n",
       "      <td>male</td>\n",
       "      <td>Asian</td>\n",
       "      <td>19</td>\n",
       "      <td>006959_male_Asian_19</td>\n",
       "    </tr>\n",
       "  </tbody>\n",
       "</table>\n",
       "<p>1801 rows × 5 columns</p>\n",
       "</div>"
      ],
      "text/plain": [
       "          id  gender   race  age                    path\n",
       "899   001652  female  Asian   35  001652_female_Asian_35\n",
       "900   001653  female  Asian   36  001653_female_Asian_36\n",
       "901   001655  female  Asian   58  001655_female_Asian_58\n",
       "902   001656  female  Asian   60  001656_female_Asian_60\n",
       "903   001657  female  Asian   18  001657_female_Asian_18\n",
       "...      ...     ...    ...  ...                     ...\n",
       "2695  006954    male  Asian   19    006954_male_Asian_19\n",
       "2696  006955    male  Asian   19    006955_male_Asian_19\n",
       "2697  006956    male  Asian   19    006956_male_Asian_19\n",
       "2698  006957    male  Asian   20    006957_male_Asian_20\n",
       "2699  006959    male  Asian   19    006959_male_Asian_19\n",
       "\n",
       "[1801 rows x 5 columns]"
      ]
     },
     "execution_count": 112,
     "metadata": {},
     "output_type": "execute_result"
    }
   ],
   "source": [
    "get_number = pd.read_csv(r'/opt/ml/data/train/train.csv').iloc[900-1:2699 + 1, :]\n",
    "get_number"
   ]
  },
  {
   "cell_type": "code",
   "execution_count": 12,
   "id": "1ed1c356-36ca-4078-8cad-8bcbf2f71d0c",
   "metadata": {},
   "outputs": [],
   "source": [
    "class MaskDataset(Dataset):\n",
    "    \n",
    "    def __init__(self, mode:str):\n",
    "        self.LOCATE = None\n",
    "        self.CSV = None\n",
    "        if mode == 'train':\n",
    "            self.LOCATE = r'/opt/ml/data/train'\n",
    "            self.CSV = 'train.csv'\n",
    "        else:\n",
    "            self.LOCATE = r'/opt/ml/data/eval'\n",
    "            \n",
    "        self.locate_datas = pd.read_csv(self.LOCATE+\"/\"+self.CSV)\n",
    "        \n",
    "    \n",
    "    def __len__(self):\n",
    "        pass\n",
    "    \n",
    "    def __getitem__(self,idx):\n",
    "        pass"
   ]
  },
  {
   "cell_type": "code",
   "execution_count": 55,
   "id": "c11cc63d-5961-4352-8ce2-46840268923b",
   "metadata": {},
   "outputs": [
    {
     "name": "stdout",
     "output_type": "stream",
     "text": [
      "<bound method DataFrame.count of       gender  age                    path\n",
      "0     female   45  000001_female_Asian_45\n",
      "1     female   52  000002_female_Asian_52\n",
      "2       male   54    000004_male_Asian_54\n",
      "3     female   58  000005_female_Asian_58\n",
      "4     female   59  000006_female_Asian_59\n",
      "...      ...  ...                     ...\n",
      "2695    male   19    006954_male_Asian_19\n",
      "2696    male   19    006955_male_Asian_19\n",
      "2697    male   19    006956_male_Asian_19\n",
      "2698    male   20    006957_male_Asian_20\n",
      "2699    male   19    006959_male_Asian_19\n",
      "\n",
      "[2700 rows x 3 columns]>\n",
      "[['female' 45 '000001_female_Asian_45']\n",
      " ['female' 52 '000002_female_Asian_52']\n",
      " ['male' 54 '000004_male_Asian_54']\n",
      " ...\n",
      " ['male' 19 '006956_male_Asian_19']\n",
      " ['male' 20 '006957_male_Asian_20']\n",
      " ['male' 19 '006959_male_Asian_19']]\n",
      "['000001_female_Asian_45' '000002_female_Asian_52' '000004_male_Asian_54'\n",
      " ... '006956_male_Asian_19' '006957_male_Asian_20' '006959_male_Asian_19']\n"
     ]
    },
    {
     "data": {
      "text/plain": [
       "450"
      ]
     },
     "execution_count": 55,
     "metadata": {},
     "output_type": "execute_result"
    }
   ],
   "source": [
    "get_data = pd.read_csv(r'/opt/ml/data/train/train.csv')\n",
    "get_data = get_data.drop(['race','id'],axis=1)\n",
    "print(get_data.count)\n",
    "print(get_data.values)\n",
    "print(get_data['path'].values)"
   ]
  },
  {
   "cell_type": "code",
   "execution_count": 109,
   "id": "da469563-4731-4d17-b829-000721886ba9",
   "metadata": {},
   "outputs": [
    {
     "name": "stdout",
     "output_type": "stream",
     "text": [
      "[['male' 46 '005557_male_Asian_46']\n",
      " ['male' 52 '005558_male_Asian_52']\n",
      " ['male' 52 '005559_male_Asian_52']\n",
      " ...\n",
      " ['male' 19 '006956_male_Asian_19']\n",
      " ['male' 20 '006957_male_Asian_20']\n",
      " ['male' 19 '006959_male_Asian_19']]\n"
     ]
    },
    {
     "data": {
      "image/png": "[encoded data removed]",
      "text/plain": [
       "<Figure size 432x288 with 7 Axes>"
      ]
     },
     "metadata": {
      "needs_background": "light"
     },
     "output_type": "display_data"
    }
   ],
   "source": [
    "# 내 라벨링 해야 하는 데이터들이었음\n",
    "ROOT = '/opt/ml/data/train/images/'\n",
    "target = get_data.values[-450:]\n",
    "locate = [ROOT + i for i in get_data['path'].values[-450:]]\n",
    "images = []\n",
    "print(target)\n",
    "for files in locate:\n",
    "    temp = []\n",
    "    for j in os.listdir(files):\n",
    "        if not j[0] == '.':\n",
    "            temp.append(files+'/'+j)\n",
    "    images.append(temp)\n",
    "images[:5]\n",
    "im = Image.open(images[0][0])\n",
    "fig = plt.figure()\n",
    "rows = 1\n",
    "cols = 7\n",
    "k = 1\n",
    "for i in range(len(target)):\n",
    "    for j in range(len(images[0])):\n",
    "#         print(f'{target[i][2]} : {images[i][j]}')\n",
    "        img = Image.open(images[i][j])\n",
    "        ax = fig.add_subplot(rows, cols,k)\n",
    "        ax.imshow(img)\n",
    "        ax.set_xlabel(target[i][2][-13:])\n",
    "        k +=1\n",
    "    break\n",
    "plt.show()"
   ]
  },
  {
   "cell_type": "code",
   "execution_count": 68,
   "id": "bc57e7cc-e123-473a-aa98-0af918177a6c",
   "metadata": {},
   "outputs": [
    {
     "ename": "AttributeError",
     "evalue": "'DataFrame' object has no attribute 'locate_datas'",
     "output_type": "error",
     "traceback": [
      "\u001b[0;31m---------------------------------------------------------------------------\u001b[0m",
      "\u001b[0;31mAttributeError\u001b[0m                            Traceback (most recent call last)",
      "\u001b[0;32m<ipython-input-68-a04d09adecfc>\u001b[0m in \u001b[0;36m<module>\u001b[0;34m\u001b[0m\n\u001b[0;32m----> 1\u001b[0;31m \u001b[0mimage_locate\u001b[0m \u001b[0;34m=\u001b[0m \u001b[0;34m[\u001b[0m\u001b[0mget_data\u001b[0m\u001b[0;34m.\u001b[0m\u001b[0mLOCATE\u001b[0m\u001b[0;34m+\u001b[0m\u001b[0;34m'/images/'\u001b[0m\u001b[0;34m+\u001b[0m\u001b[0mi\u001b[0m \u001b[0;32mfor\u001b[0m \u001b[0mi\u001b[0m \u001b[0;32min\u001b[0m \u001b[0mget_data\u001b[0m\u001b[0;34m.\u001b[0m\u001b[0mlocate_datas\u001b[0m\u001b[0;34m[\u001b[0m\u001b[0;34m'path'\u001b[0m\u001b[0;34m]\u001b[0m\u001b[0;34m.\u001b[0m\u001b[0mvalues\u001b[0m\u001b[0;34m]\u001b[0m\u001b[0;34m\u001b[0m\u001b[0;34m\u001b[0m\u001b[0m\n\u001b[0m\u001b[1;32m      2\u001b[0m \u001b[0mprint\u001b[0m\u001b[0;34m(\u001b[0m\u001b[0mimage_locate\u001b[0m\u001b[0;34m[\u001b[0m\u001b[0;34m:\u001b[0m\u001b[0;36m5\u001b[0m\u001b[0;34m]\u001b[0m\u001b[0;34m)\u001b[0m\u001b[0;34m\u001b[0m\u001b[0;34m\u001b[0m\u001b[0m\n\u001b[1;32m      3\u001b[0m \u001b[0mimages\u001b[0m \u001b[0;34m=\u001b[0m \u001b[0;34m[\u001b[0m\u001b[0mfile_name\u001b[0m \u001b[0;32mfor\u001b[0m \u001b[0mfile_name\u001b[0m \u001b[0;32min\u001b[0m \u001b[0mos\u001b[0m\u001b[0;34m.\u001b[0m\u001b[0mlistdir\u001b[0m\u001b[0;34m(\u001b[0m\u001b[0mimage_locate\u001b[0m\u001b[0;34m[\u001b[0m\u001b[0;36m0\u001b[0m\u001b[0;34m]\u001b[0m\u001b[0;34m)\u001b[0m \u001b[0;32mif\u001b[0m \u001b[0;32mnot\u001b[0m \u001b[0mfile_name\u001b[0m\u001b[0;34m[\u001b[0m\u001b[0;36m0\u001b[0m\u001b[0;34m]\u001b[0m \u001b[0;34m==\u001b[0m \u001b[0;34m'.'\u001b[0m\u001b[0;34m]\u001b[0m\u001b[0;34m\u001b[0m\u001b[0;34m\u001b[0m\u001b[0m\n\u001b[1;32m      4\u001b[0m \u001b[0;34m\u001b[0m\u001b[0m\n\u001b[1;32m      5\u001b[0m \u001b[0mim\u001b[0m \u001b[0;34m=\u001b[0m \u001b[0mImage\u001b[0m\u001b[0;34m.\u001b[0m\u001b[0mopen\u001b[0m\u001b[0;34m(\u001b[0m\u001b[0mimage_locate\u001b[0m\u001b[0;34m[\u001b[0m\u001b[0;36m0\u001b[0m\u001b[0;34m]\u001b[0m \u001b[0;34m+\u001b[0m\u001b[0;34m'/'\u001b[0m\u001b[0;34m+\u001b[0m \u001b[0mimages\u001b[0m\u001b[0;34m[\u001b[0m\u001b[0;36m0\u001b[0m\u001b[0;34m]\u001b[0m\u001b[0;34m)\u001b[0m\u001b[0;34m\u001b[0m\u001b[0;34m\u001b[0m\u001b[0m\n",
      "\u001b[0;32m/opt/conda/lib/python3.8/site-packages/pandas/core/generic.py\u001b[0m in \u001b[0;36m__getattr__\u001b[0;34m(self, name)\u001b[0m\n\u001b[1;32m   5139\u001b[0m             \u001b[0;32mif\u001b[0m \u001b[0mself\u001b[0m\u001b[0;34m.\u001b[0m\u001b[0m_info_axis\u001b[0m\u001b[0;34m.\u001b[0m\u001b[0m_can_hold_identifiers_and_holds_name\u001b[0m\u001b[0;34m(\u001b[0m\u001b[0mname\u001b[0m\u001b[0;34m)\u001b[0m\u001b[0;34m:\u001b[0m\u001b[0;34m\u001b[0m\u001b[0;34m\u001b[0m\u001b[0m\n\u001b[1;32m   5140\u001b[0m                 \u001b[0;32mreturn\u001b[0m \u001b[0mself\u001b[0m\u001b[0;34m[\u001b[0m\u001b[0mname\u001b[0m\u001b[0;34m]\u001b[0m\u001b[0;34m\u001b[0m\u001b[0;34m\u001b[0m\u001b[0m\n\u001b[0;32m-> 5141\u001b[0;31m             \u001b[0;32mreturn\u001b[0m \u001b[0mobject\u001b[0m\u001b[0;34m.\u001b[0m\u001b[0m__getattribute__\u001b[0m\u001b[0;34m(\u001b[0m\u001b[0mself\u001b[0m\u001b[0;34m,\u001b[0m \u001b[0mname\u001b[0m\u001b[0;34m)\u001b[0m\u001b[0;34m\u001b[0m\u001b[0;34m\u001b[0m\u001b[0m\n\u001b[0m\u001b[1;32m   5142\u001b[0m \u001b[0;34m\u001b[0m\u001b[0m\n\u001b[1;32m   5143\u001b[0m     \u001b[0;32mdef\u001b[0m \u001b[0m__setattr__\u001b[0m\u001b[0;34m(\u001b[0m\u001b[0mself\u001b[0m\u001b[0;34m,\u001b[0m \u001b[0mname\u001b[0m\u001b[0;34m:\u001b[0m \u001b[0mstr\u001b[0m\u001b[0;34m,\u001b[0m \u001b[0mvalue\u001b[0m\u001b[0;34m)\u001b[0m \u001b[0;34m->\u001b[0m \u001b[0;32mNone\u001b[0m\u001b[0;34m:\u001b[0m\u001b[0;34m\u001b[0m\u001b[0;34m\u001b[0m\u001b[0m\n",
      "\u001b[0;31mAttributeError\u001b[0m: 'DataFrame' object has no attribute 'locate_datas'"
     ]
    }
   ],
   "source": [
    "image_locate = [get_data.LOCATE+'/images/'+i for i in get_data.locate_datas['path'].values]\n",
    "print(image_locate[:5])\n",
    "images = [file_name for file_name in os.listdir(image_locate[0]) if not file_name[0] == '.']\n",
    "\n",
    "im = Image.open(image_locate[0] +'/'+ images[0])\n",
    "im"
   ]
  },
  {
   "cell_type": "code",
   "execution_count": null,
   "id": "c357b6ee-7e41-43a6-aff5-243fa17aa281",
   "metadata": {},
   "outputs": [],
   "source": []
  }
 ],
 "metadata": {
  "kernelspec": {
   "display_name": "Python 3 (ipykernel)",
   "language": "python",
   "name": "python3"
  },
  "language_info": {
   "codemirror_mode": {
    "name": "ipython",
    "version": 3
   },
   "file_extension": ".py",
   "mimetype": "text/x-python",
   "name": "python",
   "nbconvert_exporter": "python",
   "pygments_lexer": "ipython3",
   "version": "3.8.5"
  }
 },
 "nbformat": 4,
 "nbformat_minor": 5
}
