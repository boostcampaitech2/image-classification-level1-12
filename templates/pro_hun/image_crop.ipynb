{
 "cells": [
  {
   "cell_type": "code",
   "execution_count": 48,
   "source": [
    "import cv2\n",
    "import pandas as pd\n",
    "import cvlib as cv\n",
    "import os \n",
    "from pathlib import Path\n",
    "from utils.util import ensure_dir, prepare_device\n",
    "from PIL import Image\n",
    "import tqdm\n",
    "import shutil\n",
    "\n",
    "from utils.util import ensure_dir\n",
    "\n",
    "\n",
    "def crop_coord(imagePath):\n",
    "\timage = cv2.imread(imagePath)\n",
    "\tface, confidence = cv.detect_face(image)\n",
    "\tif len(face)==0 :\n",
    "\t\treturn 0\n",
    "\tx, y, w, h = face[0]\n",
    "\tcoord = [x, y, w, h]\n",
    "\n",
    "\treturn coord\n",
    "\n",
    "\n",
    "def crop_face(coord_list, path, crop_path):\n",
    "\tif type(coord_list)==int:\n",
    "\t\tshutil.copy(path, crop_path)\n",
    "\t\treturn\n",
    "\tx, y, w, h = coord_list\n",
    "\timage = cv2.imread(path)\n",
    "\tH, W, C = image.shape\n",
    "\timage_array = image[max(y-100,0):min(h+100,H), max(0,x-100):min(w+100,W)]\n",
    "\tcv2.imwrite(crop_path, image_array)\n",
    "\t\n",
    "\n",
    "# # if __name__ == '__main__':\n",
    "label_path = '/opt/ml/image-classification-level1-12/templates/data/train/train_with_label.csv'\n",
    "df = pd.read_csv(label_path)\n",
    "df['normal'] = df['path'].map(lambda x: 1 if 'normal' in x else 0)\n",
    "df['crop_coor'] = df.apply(lambda x: crop_coord(x['path']) if x['normal']==1 else None, axis=1)\n",
    "df = df.sort_values(by='name').fillna(method='backfill', limit=6).sort_index()\n",
    "df['crop_path'] = df['path'].apply(lambda x: x.replace('images', 'image_crop'))\n",
    "df.apply(lambda x: crop_face(x['crop_coor'], x['path'], x['crop_path']), axis=1)\n",
    "df.to_csv(label_path, index=False)"
   ],
   "outputs": [],
   "metadata": {}
  },
  {
   "cell_type": "code",
   "execution_count": 27,
   "source": [
    "eval_path = '/opt/ml/image-classification-level1-12/templates/data/eval'\n",
    "eval_df = pd.read_csv(eval_path+'/info.csv')\n",
    "eval_df['crop_coord'] = eval_df.apply(lambda x: crop_coord(eval_path+'/images/'+x['ImageID']),axis=1)\n",
    "\n",
    "path = eval_path+'/images/'\n",
    "crop_path = eval_path+'/crop_image/'\n",
    "\n",
    "eval_df.apply(lambda x : crop_face(x['crop_coord'], path+x['ImageID'], crop_path+x['ImageID']), axis=1)"
   ],
   "outputs": [],
   "metadata": {}
  },
  {
   "cell_type": "code",
   "execution_count": 49,
   "source": [
    "import pandas as pd\n",
    "\n",
    "df = pd.read_csv('/opt/ml/image-classification-level1-12/templates/data/train/train_with_label.csv')\n",
    "df_new = pd.DataFrame(df['path'].append(df['crop_path']))\n",
    "df_new['label'] = df['label'].append(df['label'])\n",
    "df_new.to_csv('/opt/ml/image-classification-level1-12/templates/data/train/train_with_crop.csv', index=False)"
   ],
   "outputs": [
    {
     "output_type": "execute_result",
     "data": {
      "text/plain": [
       "0        None\n",
       "1        None\n",
       "2        None\n",
       "3        None\n",
       "4        None\n",
       "         ... \n",
       "12595    None\n",
       "12596    None\n",
       "12597    None\n",
       "12598    None\n",
       "12599    None\n",
       "Length: 12600, dtype: object"
      ]
     },
     "metadata": {},
     "execution_count": 49
    }
   ],
   "metadata": {}
  }
 ],
 "metadata": {
  "orig_nbformat": 4,
  "language_info": {
   "name": "python",
   "version": "3.8.11",
   "mimetype": "text/x-python",
   "codemirror_mode": {
    "name": "ipython",
    "version": 3
   },
   "pygments_lexer": "ipython3",
   "nbconvert_exporter": "python",
   "file_extension": ".py"
  },
  "kernelspec": {
   "name": "python3",
   "display_name": "Python 3.8.11 64-bit ('Boost': conda)"
  },
  "interpreter": {
   "hash": "fe1245278890173877dd11a7710099aa914842694f48243c1ce9a3ddbf158827"
  }
 },
 "nbformat": 4,
 "nbformat_minor": 2
}