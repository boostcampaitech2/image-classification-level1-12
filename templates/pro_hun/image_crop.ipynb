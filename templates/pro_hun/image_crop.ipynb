{
 "cells": [
  {
   "cell_type": "code",
   "execution_count": 1,
   "source": [
    "import cv2\n",
    "import pandas as pd\n",
    "import cvlib as cv\n",
    "import os \n",
    "from pathlib import Path\n",
    "from utils.util import ensure_dir, prepare_device\n",
    "from PIL import Image\n",
    "import tqdm\n",
    "import shutil\n",
    "\n",
    "from utils.util import ensure_dir\n",
    "\n",
    "\n",
    "def crop_coord(imagePath):\n",
    "\timage = cv2.imread(imagePath)\n",
    "\tface, confidence = cv.detect_face(image)\n",
    "\tif len(face)==0 :\n",
    "\t\treturn 0\n",
    "\tx, y, w, h = face[0]\n",
    "\tcoord = [x, y, w, h]\n",
    "\n",
    "\treturn coord\n",
    "\n",
    "\n",
    "def crop_face(coord_list, path, crop_path):\n",
    "\tif type(coord_list)==int:\n",
    "\t\tshutil.copy(path, crop_path)\n",
    "\t\treturn\n",
    "\tx, y, w, h = coord_list\n",
    "\timage = cv2.imread(path)\n",
    "\tH, W, C = image.shape\n",
    "\timage_array = image[max(y-100,0):min(h+100,H), max(0,x-100):min(w+100,W)]\n",
    "\tcv2.imwrite(crop_path, image_array)"
   ],
   "outputs": [],
   "metadata": {}
  },
  {
   "cell_type": "code",
   "execution_count": 5,
   "source": [
    "# train_with_label.csv에 추가 정보\n",
    "label_path = '/opt/ml/image-classification-level1-12/templates/data/train/train_with_label.csv'\n",
    "df = pd.read_csv(label_path)\n",
    "df['normal'] = df['path'].map(lambda x: 1 if 'normal' in x else 0)\n",
    "# crop_coor, 얼굴 좌표 반환\n",
    "df['crop_coor'] = df.apply(lambda x: crop_coord(x['path']) if x['normal']==1 else None, axis=1)\n",
    "df = df.sort_values(by='name').fillna(method='backfill', limit=6).sort_index()\n",
    "# crop_image 저장할 경로 설정\n",
    "df['crop_path'] = df['path'].apply(lambda x: x.replace('images', 'image_crop'))\n",
    "# crop_image 생성\n",
    "df.apply(lambda x: crop_face(x['crop_coor'], x['path'], x['crop_path']), axis=1)\n",
    "# train_with_label에 crop_coord, crop_path 추가해서 재생성\n",
    "df.to_csv(label_path, index=False)"
   ],
   "outputs": [],
   "metadata": {}
  },
  {
   "cell_type": "code",
   "execution_count": 28,
   "source": [
    "# Evalution Data에도 crop 적용\n",
    "# image_crop 추가\n",
    "eval_path = '/opt/ml/image-classification-level1-12/templates/data/eval'\n",
    "eval_df = pd.read_csv(eval_path+'/info.csv')\n",
    "eval_df['crop_coord'] = eval_df.apply(lambda x: crop_coord(eval_path+'/images/'+x['ImageID']),axis=1)\n",
    "\n",
    "path = eval_path+'/images/'\n",
    "crop_path = eval_path+'/crop_image/'\n",
    "\n",
    "eval_df.apply(lambda x : crop_face(x['crop_coord'], path+x['ImageID'], crop_path+x['ImageID']), axis=1)"
   ],
   "outputs": [],
   "metadata": {}
  },
  {
   "cell_type": "code",
   "execution_count": 73,
   "source": [
    "# train_with_crop.csv 생성\n",
    "import pandas as pd\n",
    "\n",
    "df = pd.read_csv('/opt/ml/image-classification-level1-12/templates/data/train/train_with_label.csv')\n",
    "df_new = df[['crop_path', 'label']].copy()\n",
    "df_new.columns = ['path', 'label']\n",
    "# df_new = pd.DataFrame(df['path'].append(df['crop_path']), columns=['path'])\n",
    "# df_new['label'] = df['label'].append(df['label'])\n",
    "df_new['name'] = df_new['path'].apply(lambda x: x.split('/')[-2]+'_'+x.split('/')[-1])\n",
    "df_new.to_csv('/opt/ml/image-classification-level1-12/templates/data/train/train_with_crop.csv', index=False)"
   ],
   "outputs": [],
   "metadata": {}
  },
  {
   "cell_type": "code",
   "execution_count": 16,
   "source": [
    "# Original+Crop image folder\n",
    "root_folder = '/opt/ml/image-classification-level1-12/templates/data/train/image_crop'\n",
    "root_dir = [dir for dir in os.listdir(root_folder) if not dir.startswith('._')]\n",
    "for folder_list in root_dir:\n",
    "\tcrop_folder = os.path.join(root_folder, folder_list)\n",
    "\tmove_folder = crop_folder.replace('image_crop', 'ori_crop')\n",
    "\tcrop_dir = [dir for dir in os.listdir(crop_folder) if not dir.startswith('._')]\t\n",
    "\tfor image_list in crop_dir:\n",
    "\t\tshutil.copy(os.path.join(crop_folder, image_list), os.path.join(move_folder, 'crop'+image_list))"
   ],
   "outputs": [],
   "metadata": {}
  },
  {
   "cell_type": "code",
   "execution_count": 56,
   "source": [
    "df_label = pd.read_csv('/opt/ml/image-classification-level1-12/templates/data/train/train_with_label.csv')\n",
    "df_crop = pd.read_csv('/opt/ml/image-classification-level1-12/templates/data/train/train_with_crop.csv')\n",
    "\n",
    "label_series = df_label['path'].map(lambda x: x.replace('images', 'ori_crop'))\n",
    "crop_series = df_crop['path'].map(lambda x: x.replace('image_crop', 'ori_crop'))\n",
    "crop_series = crop_series.map(lambda x: \"/\".join(x.split('/')[:-1])+\"/crop\"+x.split('/')[-1])\n",
    "\n",
    "df_merge = pd.DataFrame(label_series.append(crop_series), columns=['path'])\n",
    "df_merge['label'] = df_label['label'].append(df_label['label'])\n",
    "df_merge = df_merge.reset_index(drop=True)\n",
    "df_merge['name'] = df_merge['path'].map(lambda x: x.split('/')[-2]+'_'+x.split('/')[-1])\n",
    "df_merge.to_csv('/opt/ml/image-classification-level1-12/templates/data/train/train_with_all.csv', index=False)"
   ],
   "outputs": [],
   "metadata": {}
  },
  {
   "cell_type": "code",
   "execution_count": 69,
   "source": [
    "df_merge = pd.read_csv('/opt/ml/image-classification-level1-12/templates/data/train/train_with_all.csv')\n",
    "df_merge.to_csv('/opt/ml/image-classification-level1-12/templates/data/train/train_with_all.csv', index=False)"
   ],
   "outputs": [],
   "metadata": {}
  },
  {
   "cell_type": "code",
   "execution_count": 66,
   "source": [
    "df_merge.path[0].split('/')[-2]+'_'+df_merge.path[0].split('/')[-1]"
   ],
   "outputs": [
    {
     "output_type": "execute_result",
     "data": {
      "text/plain": [
       "'000001_female_Asian_45_mask2.jpg'"
      ]
     },
     "metadata": {},
     "execution_count": 66
    }
   ],
   "metadata": {}
  },
  {
   "cell_type": "code",
   "execution_count": 62,
   "source": [
    "pd.read_csv('/opt/ml/image-classification-level1-12/templates/data/train/train_with_crop.csv')['name']"
   ],
   "outputs": [
    {
     "output_type": "execute_result",
     "data": {
      "text/plain": [
       "0                 000001_female_Asian_45_mask2.jpg\n",
       "1        000001_female_Asian_45_incorrect_mask.jpg\n",
       "2                 000001_female_Asian_45_mask1.jpg\n",
       "3                 000001_female_Asian_45_mask4.jpg\n",
       "4                 000001_female_Asian_45_mask3.jpg\n",
       "                           ...                    \n",
       "18895               006959_male_Asian_19_mask1.jpg\n",
       "18896               006959_male_Asian_19_mask4.jpg\n",
       "18897               006959_male_Asian_19_mask3.jpg\n",
       "18898              006959_male_Asian_19_normal.jpg\n",
       "18899               006959_male_Asian_19_mask5.jpg\n",
       "Name: name, Length: 18900, dtype: object"
      ]
     },
     "metadata": {},
     "execution_count": 62
    }
   ],
   "metadata": {}
  },
  {
   "cell_type": "code",
   "execution_count": null,
   "source": [],
   "outputs": [],
   "metadata": {}
  }
 ],
 "metadata": {
  "orig_nbformat": 4,
  "language_info": {
   "name": "python",
   "version": "3.8.11",
   "mimetype": "text/x-python",
   "codemirror_mode": {
    "name": "ipython",
    "version": 3
   },
   "pygments_lexer": "ipython3",
   "nbconvert_exporter": "python",
   "file_extension": ".py"
  },
  "kernelspec": {
   "name": "python3",
   "display_name": "Python 3.8.11 64-bit ('Boost': conda)"
  },
  "interpreter": {
   "hash": "fe1245278890173877dd11a7710099aa914842694f48243c1ce9a3ddbf158827"
  }
 },
 "nbformat": 4,
 "nbformat_minor": 2
}