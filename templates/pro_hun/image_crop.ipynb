{
 "cells": [
  {
   "cell_type": "code",
   "execution_count": 6,
   "source": [
    "import cv2\n",
    "import pandas as pd\n",
    "import cvlib as cv\n",
    "import os \n",
    "from pathlib import Path\n",
    "from utils.util import ensure_dir, prepare_device\n",
    "from PIL import Image\n",
    "import tqdm\n",
    "\n",
    "from utils.util import ensure_dir\n",
    "\n",
    "\n",
    "def crop_coord(imagePath):\n",
    "\timage = cv2.imread(imagePath)\n",
    "\tface, confidence = cv.detect_face(image)\n",
    "\tx, y, w, h = face[0]\n",
    "\tcoord = [x, y, w, h]\n",
    "\n",
    "\treturn coord\n",
    "\n",
    "\n",
    "def crop_face(coord_list, path, crop_path):\n",
    "\tx, y, w, h = coord_list\n",
    "\timage = cv2.imread(path)\n",
    "\tH, W, C = image.shape\n",
    "\timage_array = image[max(y-100,0):min(h+100,H), max(0,x-100):min(w+100,W)]\n",
    "\tcv2.imwrite(crop_path, image_array)\n",
    "\t\n",
    "\n",
    "# if __name__ == '__main__':\n",
    "label_path = '/opt/ml/image-classification-level1-12/templates/data/train/train_with_label.csv'\n",
    "df = pd.read_csv(label_path)\n",
    "df['normal'] = df['path'].map(lambda x: 1 if 'normal' in x else 0)\n",
    "df['crop_coor'] = df.apply(lambda x: crop_coord(x['path']) if x['normal']==1 else None,axis=1)\n",
    "df['crop_path'] = df['path'].apply(lambda x: x.replace('images', 'image_crop'))\n",
    "df.apply(lambda x: crop_face(x['crop_coor'], x['path'], x['crop_path']), axis=1)\n",
    "df.to_csv(label_path, index=False)"
   ],
   "outputs": [],
   "metadata": {}
  },
  {
   "cell_type": "code",
   "execution_count": 8,
   "source": [],
   "outputs": [],
   "metadata": {}
  }
 ],
 "metadata": {
  "orig_nbformat": 4,
  "language_info": {
   "name": "python",
   "version": "3.8.11",
   "mimetype": "text/x-python",
   "codemirror_mode": {
    "name": "ipython",
    "version": 3
   },
   "pygments_lexer": "ipython3",
   "nbconvert_exporter": "python",
   "file_extension": ".py"
  },
  "kernelspec": {
   "name": "python3",
   "display_name": "Python 3.8.11 64-bit ('Boost': conda)"
  },
  "interpreter": {
   "hash": "fe1245278890173877dd11a7710099aa914842694f48243c1ce9a3ddbf158827"
  }
 },
 "nbformat": 4,
 "nbformat_minor": 2
}