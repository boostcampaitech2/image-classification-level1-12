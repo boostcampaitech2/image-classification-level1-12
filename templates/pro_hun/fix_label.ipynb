{
 "cells": [
  {
   "cell_type": "code",
   "execution_count": 11,
   "source": [
    "import pandas as pd\n",
    "\n",
    "error_list = ['006359', '006360', '006361', '006362', '006363', '006364', '001498-1', '004432', '000020', '004418', '005227']\n",
    "df = pd.read_csv('/opt/ml/image-classification-level1-12/templates/data/train/train_with_all.csv')\n",
    "df[df['name'].map(lambda x: x.split('_')[0] not in error_list)].reset_index(drop=True).to_csv('/opt/ml/image-classification-level1-12/templates/data/train/train_with_all_fix.csv', index=False)"
   ],
   "outputs": [],
   "metadata": {}
  },
  {
   "cell_type": "code",
   "execution_count": null,
   "source": [],
   "outputs": [],
   "metadata": {}
  }
 ],
 "metadata": {
  "orig_nbformat": 4,
  "language_info": {
   "name": "python",
   "version": "3.8.11",
   "mimetype": "text/x-python",
   "codemirror_mode": {
    "name": "ipython",
    "version": 3
   },
   "pygments_lexer": "ipython3",
   "nbconvert_exporter": "python",
   "file_extension": ".py"
  },
  "kernelspec": {
   "name": "python3",
   "display_name": "Python 3.8.11 64-bit ('Boost': conda)"
  },
  "interpreter": {
   "hash": "fe1245278890173877dd11a7710099aa914842694f48243c1ce9a3ddbf158827"
  }
 },
 "nbformat": 4,
 "nbformat_minor": 2
}