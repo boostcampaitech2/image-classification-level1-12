{
 "cells": [
  {
   "cell_type": "code",
   "execution_count": 1,
   "id": "8cf2fc57-1e4f-4461-81df-b565f702533a",
   "metadata": {},
   "outputs": [
    {
     "name": "stdout",
     "output_type": "stream",
     "text": [
      "Mon Aug 23 11:12:25 2021       \n",
      "+-----------------------------------------------------------------------------+\n",
      "| NVIDIA-SMI 450.80.02    Driver Version: 450.80.02    CUDA Version: 11.0     |\n",
      "|-------------------------------+----------------------+----------------------+\n",
      "| GPU  Name        Persistence-M| Bus-Id        Disp.A | Volatile Uncorr. ECC |\n",
      "| Fan  Temp  Perf  Pwr:Usage/Cap|         Memory-Usage | GPU-Util  Compute M. |\n",
      "|                               |                      |               MIG M. |\n",
      "|===============================+======================+======================|\n",
      "|   0  Tesla V100-PCIE...  Off  | 00000000:00:05.0 Off |                  Off |\n",
      "| N/A   33C    P0    35W / 250W |      0MiB / 32510MiB |      0%      Default |\n",
      "|                               |                      |                  N/A |\n",
      "+-------------------------------+----------------------+----------------------+\n",
      "                                                                               \n",
      "+-----------------------------------------------------------------------------+\n",
      "| Processes:                                                                  |\n",
      "|  GPU   GI   CI        PID   Type   Process name                  GPU Memory |\n",
      "|        ID   ID                                                   Usage      |\n",
      "|=============================================================================|\n",
      "|  No running processes found                                                 |\n",
      "+-----------------------------------------------------------------------------+\n"
     ]
    }
   ],
   "source": [
    "!nvidia-smi"
   ]
  },
  {
   "cell_type": "code",
   "execution_count": 25,
   "id": "18262b12-8c34-4aba-bc0b-2c1051114d14",
   "metadata": {},
   "outputs": [],
   "source": [
    "import os\n",
    "import pandas as pd\n",
    "from PIL import Image\n",
    "from IPython.display import Image as pyimage \n",
    "from IPython.display import display\n",
    "import numpy as np\n",
    "import matplotlib.pyplot as plt"
   ]
  },
  {
   "cell_type": "code",
   "execution_count": 26,
   "id": "1b69ec00-b072-43a6-9159-5f2ea58db10c",
   "metadata": {},
   "outputs": [],
   "source": [
    "def dirlister(root: str, meta: pd.DataFrame, mode = 'train')->list:\n",
    "    mode_dict = {'train': 'path', 'sub':'ImageID'}\n",
    "    image_dirs = [os.path.join(root,'images', x) for x in meta[mode_dict[mode]].values]\n",
    "    if mode == 'train':\n",
    "        image_path = []\n",
    "        for dir in image_dirs:\n",
    "            for filenames in os.listdir(dir):\n",
    "                tmp = os.path.join(dir, filenames)\n",
    "                if os.path.isfile(tmp) and '._' not in tmp:\n",
    "                    image_path.append(tmp)\n",
    "                    \n",
    "    else:\n",
    "        return image_dirs\n",
    "        \n",
    "    return image_path"
   ]
  },
  {
   "cell_type": "code",
   "execution_count": null,
   "id": "2e81c9a8-3ea6-48a0-92cc-98e428d931b6",
   "metadata": {},
   "outputs": [],
   "source": []
  },
  {
   "cell_type": "code",
   "execution_count": 27,
   "id": "7eb4f668-7155-4908-b7ad-309af6f27b3d",
   "metadata": {},
   "outputs": [],
   "source": [
    "TRAIN_DATA_ROOT = '/opt/ml/input/data/train/'\n",
    "SUB_DATA_ROOT = '/opt/ml/input/data/eval/'"
   ]
  },
  {
   "cell_type": "code",
   "execution_count": 28,
   "id": "08a953cc-e472-402b-8091-98c6e49c4f2d",
   "metadata": {},
   "outputs": [],
   "source": [
    "train_meta = pd.read_csv(os.path.join(TRAIN_DATA_ROOT, 'train.csv'))\n",
    "sub_meta = pd.read_csv(os.path.join(EVAL_DATA_ROOT, 'info.csv'))"
   ]
  },
  {
   "cell_type": "code",
   "execution_count": 29,
   "id": "eefe38ea-1704-4de6-b6c0-5b0219adb490",
   "metadata": {},
   "outputs": [],
   "source": [
    "train_dir = dirlister(TRAIN_DATA_ROOT, train_meta)\n",
    "sub_dir = dirlister(EVAL_DATA_ROOT, sub_meta, mode = 'sub')"
   ]
  },
  {
   "cell_type": "code",
   "execution_count": 30,
   "id": "af3cfc77-52f1-47e9-b98b-e314e521b771",
   "metadata": {},
   "outputs": [
    {
     "data": {
      "text/plain": [
       "18900"
      ]
     },
     "execution_count": 30,
     "metadata": {},
     "output_type": "execute_result"
    }
   ],
   "source": [
    "len(train_dir)"
   ]
  },
  {
   "cell_type": "code",
   "execution_count": 31,
   "id": "6589e69c-bb86-4d3f-899a-3e298872dee2",
   "metadata": {},
   "outputs": [
    {
     "data": {
      "text/plain": [
       "['/opt/ml/input/data/train/images/000001_female_Asian_45/incorrect_mask.jpg',\n",
       " '/opt/ml/input/data/train/images/000001_female_Asian_45/mask5.jpg',\n",
       " '/opt/ml/input/data/train/images/000001_female_Asian_45/mask3.jpg',\n",
       " '/opt/ml/input/data/train/images/000001_female_Asian_45/mask2.jpg',\n",
       " '/opt/ml/input/data/train/images/000001_female_Asian_45/mask4.jpg',\n",
       " '/opt/ml/input/data/train/images/000001_female_Asian_45/normal.jpg',\n",
       " '/opt/ml/input/data/train/images/000001_female_Asian_45/mask1.jpg',\n",
       " '/opt/ml/input/data/train/images/000002_female_Asian_52/incorrect_mask.jpg',\n",
       " '/opt/ml/input/data/train/images/000002_female_Asian_52/mask5.jpg',\n",
       " '/opt/ml/input/data/train/images/000002_female_Asian_52/mask3.jpg']"
      ]
     },
     "execution_count": 31,
     "metadata": {},
     "output_type": "execute_result"
    }
   ],
   "source": [
    "train_dir[0:10]"
   ]
  },
  {
   "cell_type": "code",
   "execution_count": 32,
   "id": "085cf076-3ef3-4d38-9033-c7dcb4f36bae",
   "metadata": {},
   "outputs": [
    {
     "data": {
      "text/plain": [
       "['/opt/ml/input/data/eval/images/cbc5c6e168e63498590db46022617123f1fe1268.jpg',\n",
       " '/opt/ml/input/data/eval/images/0e72482bf56b3581c081f7da2a6180b8792c7089.jpg',\n",
       " '/opt/ml/input/data/eval/images/b549040c49190cedc41327748aeb197c1670f14d.jpg',\n",
       " '/opt/ml/input/data/eval/images/4f9cb2a045c6d5b9e50ad3459ea7b791eb6e18bc.jpg',\n",
       " '/opt/ml/input/data/eval/images/248428d9a4a5b6229a7081c32851b90cb8d38d0c.jpg',\n",
       " '/opt/ml/input/data/eval/images/7953c2e6e983bad91b89a0e4ad7eb69e6e43e56b.jpg',\n",
       " '/opt/ml/input/data/eval/images/1903db7dcc1262d0441677afa422e6a8371e5b37.jpg',\n",
       " '/opt/ml/input/data/eval/images/441419a874f4d031cd576850b68539ca7d35bedf.jpg',\n",
       " '/opt/ml/input/data/eval/images/388856cd1ef99b1918273a827a75f2aff2478321.jpg',\n",
       " '/opt/ml/input/data/eval/images/795ba8ccc769a3f9da6a897f75df6706b729345b.jpg']"
      ]
     },
     "execution_count": 32,
     "metadata": {},
     "output_type": "execute_result"
    }
   ],
   "source": [
    "sub_dir[0:10]"
   ]
  },
  {
   "cell_type": "code",
   "execution_count": 33,
   "id": "39c91865-0197-493c-9bd9-ab4c0f1c7682",
   "metadata": {},
   "outputs": [
    {
     "data": {
      "text/plain": [
       "12600"
      ]
     },
     "execution_count": 33,
     "metadata": {},
     "output_type": "execute_result"
    }
   ],
   "source": [
    "len(sub_dir)"
   ]
  },
  {
   "cell_type": "code",
   "execution_count": 90,
   "id": "a48fe329-7393-473a-8064-9ae2fc059ea8",
   "metadata": {},
   "outputs": [
    {
     "data": {
      "image/jpeg": "[encoded data removed]",
      "text/plain": [
       "<IPython.core.display.Image object>"
      ]
     },
     "metadata": {},
     "output_type": "display_data"
    },
    {
     "name": "stdout",
     "output_type": "stream",
     "text": [
      "/opt/ml/input/data/train/images/000001_female_Asian_45/incorrect_mask.jpg\n"
     ]
    }
   ],
   "source": [
    "pil_img = pyimage(train_dir[0])\n",
    "display(pil_img)\n",
    "print(train_dir[0])"
   ]
  },
  {
   "cell_type": "code",
   "execution_count": 91,
   "id": "d906437a-12c6-4831-9550-227bb762acb9",
   "metadata": {},
   "outputs": [],
   "source": [
    "img = Image.open(train_dir[0])"
   ]
  },
  {
   "cell_type": "code",
   "execution_count": 92,
   "id": "be9c4e7c-b989-4328-a69a-272486dcfed9",
   "metadata": {},
   "outputs": [
    {
     "data": {
      "text/plain": [
       "(384, 512)"
      ]
     },
     "execution_count": 92,
     "metadata": {},
     "output_type": "execute_result"
    }
   ],
   "source": [
    "img.width, img.height"
   ]
  },
  {
   "cell_type": "code",
   "execution_count": 93,
   "id": "5d17735a-0d12-4e50-8989-5f3cd895d828",
   "metadata": {},
   "outputs": [],
   "source": [
    "r = np.unique(np.array(img.getchannel(0)), return_counts = True)"
   ]
  },
  {
   "cell_type": "code",
   "execution_count": 94,
   "id": "689bc115-25f9-414b-8107-1f3cff8586b5",
   "metadata": {},
   "outputs": [
    {
     "data": {
      "text/plain": [
       "[<matplotlib.lines.Line2D at 0x7fc0f3e42190>]"
      ]
     },
     "execution_count": 94,
     "metadata": {},
     "output_type": "execute_result"
    },
    {
     "data": {
      "image/png": "[encoded data removed]",
      "text/plain": [
       "<Figure size 432x288 with 1 Axes>"
      ]
     },
     "metadata": {
      "needs_background": "light"
     },
     "output_type": "display_data"
    }
   ],
   "source": [
    "plt.plot(r[0], r[1])"
   ]
  },
  {
   "cell_type": "code",
   "execution_count": 95,
   "id": "d35ebb4e-008a-4229-bc1f-bb0865b1af8e",
   "metadata": {},
   "outputs": [
    {
     "data": {
      "image/png": "[encoded data removed]",
      "text/plain": [
       "<PIL.Image.Image image mode=L size=384x512 at 0x7FC0F2A02190>"
      ]
     },
     "metadata": {},
     "output_type": "display_data"
    }
   ],
   "source": [
    "r_arr = np.array(img.getchannel(0)) \n",
    "r_arr[r_arr <= 150] = 0\n",
    "r_arr[r_arr > 150] = 255\n",
    "#r_arr[r_arr > 200] = 0\n",
    "display(Image.fromarray(r_arr))"
   ]
  },
  {
   "cell_type": "code",
   "execution_count": 96,
   "id": "6b7cbc41-deea-4a31-80aa-115a8609228d",
   "metadata": {},
   "outputs": [
    {
     "data": {
      "text/plain": [
       "(array([  0, 255], dtype=uint8), array([ 65185, 131423]))"
      ]
     },
     "execution_count": 96,
     "metadata": {},
     "output_type": "execute_result"
    }
   ],
   "source": [
    "np.unique(r_arr, return_counts= True)"
   ]
  },
  {
   "cell_type": "code",
   "execution_count": 104,
   "id": "a45ccf34-e5de-43d9-8af8-287b41df66d6",
   "metadata": {},
   "outputs": [
    {
     "data": {
      "image/png": "[encoded data removed]",
      "text/plain": [
       "<PIL.Image.Image image mode=L size=170x200 at 0x7FC0F3E4BD60>"
      ]
     },
     "metadata": {},
     "output_type": "display_data"
    }
   ],
   "source": [
    "display(Image.fromarray(r_arr[120:320, 100:270]))"
   ]
  },
  {
   "cell_type": "code",
   "execution_count": 105,
   "id": "21ba2412-cf17-4a04-9bfb-96805b12d204",
   "metadata": {},
   "outputs": [
    {
     "data": {
      "text/plain": [
       "(array([18615, 15385]), array([  0, 255], dtype=uint8))"
      ]
     },
     "execution_count": 105,
     "metadata": {},
     "output_type": "execute_result"
    }
   ],
   "source": [
    "r_crop = np.unique(r_arr[120:320, 100:270], return_counts= True)\n",
    "r_crop[1], r_crop[0]"
   ]
  },
  {
   "cell_type": "code",
   "execution_count": null,
   "id": "526ac10d-8a2f-40d4-867d-745631b1385e",
   "metadata": {},
   "outputs": [],
   "source": []
  },
  {
   "cell_type": "code",
   "execution_count": null,
   "id": "be216f5a-1a0a-48b5-ac98-bca9297ec623",
   "metadata": {},
   "outputs": [],
   "source": []
  },
  {
   "cell_type": "code",
   "execution_count": null,
   "id": "b1aef8a6-0658-41b4-ac36-f63e9c10caa0",
   "metadata": {},
   "outputs": [],
   "source": []
  },
  {
   "cell_type": "code",
   "execution_count": 106,
   "id": "e80570a3-7969-40fc-a7fc-9685492551f6",
   "metadata": {},
   "outputs": [
    {
     "data": {
      "image/jpeg": "[encoded data removed]",
      "text/plain": [
       "<IPython.core.display.Image object>"
      ]
     },
     "metadata": {},
     "output_type": "display_data"
    },
    {
     "name": "stdout",
     "output_type": "stream",
     "text": [
      "/opt/ml/input/data/train/images/000002_female_Asian_52/mask2.jpg\n"
     ]
    }
   ],
   "source": [
    "pil_img = pyimage(train_dir[10])\n",
    "display(pil_img)\n",
    "print(train_dir[10])"
   ]
  },
  {
   "cell_type": "code",
   "execution_count": 107,
   "id": "2d7c12b1-9845-4a87-acd3-e79cd22853b3",
   "metadata": {},
   "outputs": [],
   "source": [
    "img = Image.open(train_dir[10])"
   ]
  },
  {
   "cell_type": "code",
   "execution_count": 108,
   "id": "129c4fb8-c370-433f-bbd0-0a615eab9b52",
   "metadata": {},
   "outputs": [
    {
     "data": {
      "text/plain": [
       "(384, 512)"
      ]
     },
     "execution_count": 108,
     "metadata": {},
     "output_type": "execute_result"
    }
   ],
   "source": [
    "img.width, img.height"
   ]
  },
  {
   "cell_type": "code",
   "execution_count": 109,
   "id": "fbb5f67a-e6ad-430b-990a-9a54e48579f8",
   "metadata": {},
   "outputs": [],
   "source": [
    "r = np.unique(np.array(img.getchannel(0)), return_counts = True)"
   ]
  },
  {
   "cell_type": "code",
   "execution_count": 110,
   "id": "0309d62a-aa66-4cb9-bc5c-ab4b70b2558a",
   "metadata": {},
   "outputs": [
    {
     "data": {
      "text/plain": [
       "[<matplotlib.lines.Line2D at 0x7fc0f1f4d490>]"
      ]
     },
     "execution_count": 110,
     "metadata": {},
     "output_type": "execute_result"
    },
    {
     "data": {
      "image/png": "[encoded data removed]",
      "text/plain": [
       "<Figure size 432x288 with 1 Axes>"
      ]
     },
     "metadata": {
      "needs_background": "light"
     },
     "output_type": "display_data"
    }
   ],
   "source": [
    "plt.plot(r[0], r[1])"
   ]
  },
  {
   "cell_type": "code",
   "execution_count": 111,
   "id": "2b0bf09e-3999-4ff6-a3cb-ed28e64560bb",
   "metadata": {},
   "outputs": [
    {
     "data": {
      "image/png": "[encoded data removed]",
      "text/plain": [
       "<PIL.Image.Image image mode=L size=384x512 at 0x7FC0F1EA2B50>"
      ]
     },
     "metadata": {},
     "output_type": "display_data"
    }
   ],
   "source": [
    "r_arr = np.array(img.getchannel(0)) \n",
    "r_arr[r_arr <= 150] = 0\n",
    "r_arr[r_arr > 150] = 255\n",
    "#r_arr[r_arr > 200] = 0\n",
    "display(Image.fromarray(r_arr))"
   ]
  },
  {
   "cell_type": "code",
   "execution_count": 112,
   "id": "144b2fc8-7d8d-4bbe-8460-9aea4a4cf584",
   "metadata": {},
   "outputs": [
    {
     "data": {
      "text/plain": [
       "(array([  0, 255], dtype=uint8), array([ 90580, 106028]))"
      ]
     },
     "execution_count": 112,
     "metadata": {},
     "output_type": "execute_result"
    }
   ],
   "source": [
    "np.unique(r_arr, return_counts= True)"
   ]
  },
  {
   "cell_type": "code",
   "execution_count": 115,
   "id": "df144c5c-fcb0-4dce-b4a8-78d773850b1f",
   "metadata": {},
   "outputs": [
    {
     "data": {
      "image/png": "[encoded data removed]",
      "text/plain": [
       "<PIL.Image.Image image mode=L size=170x230 at 0x7FC0F01BEA00>"
      ]
     },
     "metadata": {},
     "output_type": "display_data"
    }
   ],
   "source": [
    "display(Image.fromarray(r_arr[120:350, 100:270]))"
   ]
  },
  {
   "cell_type": "code",
   "execution_count": 117,
   "id": "3ba9c8c2-9254-488f-a826-a146685afbbe",
   "metadata": {},
   "outputs": [
    {
     "data": {
      "text/plain": [
       "(array([26158, 12942]), array([  0, 255], dtype=uint8))"
      ]
     },
     "execution_count": 117,
     "metadata": {},
     "output_type": "execute_result"
    }
   ],
   "source": [
    "r_crop = np.unique(r_arr[120:350, 100:270], return_counts= True)\n",
    "r_crop[1], r_crop[0]"
   ]
  },
  {
   "cell_type": "markdown",
   "id": "6fb23f09-ae41-421a-b718-af04f47584d7",
   "metadata": {},
   "source": [
    "흑백 비율로 마스크 불량착용 여부를 pesudo labeling할 수 있을 것 같긴 하다(얼굴 사진만 가져올 시)\n",
    "혹은 추가 피쳐로 사용 가능할 수도 있을 듯 하다"
   ]
  },
  {
   "cell_type": "code",
   "execution_count": 48,
   "id": "3874f25e-b3d5-4fea-9349-5dede778b5d0",
   "metadata": {},
   "outputs": [
    {
     "data": {
      "text/html": [
       "<div>\n",
       "<style scoped>\n",
       "    .dataframe tbody tr th:only-of-type {\n",
       "        vertical-align: middle;\n",
       "    }\n",
       "\n",
       "    .dataframe tbody tr th {\n",
       "        vertical-align: top;\n",
       "    }\n",
       "\n",
       "    .dataframe thead th {\n",
       "        text-align: right;\n",
       "    }\n",
       "</style>\n",
       "<table border=\"1\" class=\"dataframe\">\n",
       "  <thead>\n",
       "    <tr style=\"text-align: right;\">\n",
       "      <th></th>\n",
       "      <th>count</th>\n",
       "      <th>mean</th>\n",
       "      <th>std</th>\n",
       "      <th>min</th>\n",
       "      <th>25%</th>\n",
       "      <th>50%</th>\n",
       "      <th>75%</th>\n",
       "      <th>max</th>\n",
       "    </tr>\n",
       "  </thead>\n",
       "  <tbody>\n",
       "    <tr>\n",
       "      <th>age</th>\n",
       "      <td>2700.0</td>\n",
       "      <td>37.708148</td>\n",
       "      <td>16.985904</td>\n",
       "      <td>18.0</td>\n",
       "      <td>20.0</td>\n",
       "      <td>36.0</td>\n",
       "      <td>55.0</td>\n",
       "      <td>60.0</td>\n",
       "    </tr>\n",
       "  </tbody>\n",
       "</table>\n",
       "</div>"
      ],
      "text/plain": [
       "      count       mean        std   min   25%   50%   75%   max\n",
       "age  2700.0  37.708148  16.985904  18.0  20.0  36.0  55.0  60.0"
      ]
     },
     "execution_count": 48,
     "metadata": {},
     "output_type": "execute_result"
    }
   ],
   "source": [
    "train_meta.describe().transpose()"
   ]
  },
  {
   "cell_type": "code",
   "execution_count": 49,
   "id": "f4567f02-8f1f-4269-a51f-5884558a6fc4",
   "metadata": {},
   "outputs": [
    {
     "data": {
      "text/html": [
       "<div>\n",
       "<style scoped>\n",
       "    .dataframe tbody tr th:only-of-type {\n",
       "        vertical-align: middle;\n",
       "    }\n",
       "\n",
       "    .dataframe tbody tr th {\n",
       "        vertical-align: top;\n",
       "    }\n",
       "\n",
       "    .dataframe thead th {\n",
       "        text-align: right;\n",
       "    }\n",
       "</style>\n",
       "<table border=\"1\" class=\"dataframe\">\n",
       "  <thead>\n",
       "    <tr style=\"text-align: right;\">\n",
       "      <th></th>\n",
       "      <th>id</th>\n",
       "      <th>gender</th>\n",
       "      <th>race</th>\n",
       "      <th>age</th>\n",
       "      <th>path</th>\n",
       "    </tr>\n",
       "  </thead>\n",
       "  <tbody>\n",
       "    <tr>\n",
       "      <th>0</th>\n",
       "      <td>000001</td>\n",
       "      <td>female</td>\n",
       "      <td>Asian</td>\n",
       "      <td>45</td>\n",
       "      <td>000001_female_Asian_45</td>\n",
       "    </tr>\n",
       "    <tr>\n",
       "      <th>1</th>\n",
       "      <td>000002</td>\n",
       "      <td>female</td>\n",
       "      <td>Asian</td>\n",
       "      <td>52</td>\n",
       "      <td>000002_female_Asian_52</td>\n",
       "    </tr>\n",
       "    <tr>\n",
       "      <th>2</th>\n",
       "      <td>000004</td>\n",
       "      <td>male</td>\n",
       "      <td>Asian</td>\n",
       "      <td>54</td>\n",
       "      <td>000004_male_Asian_54</td>\n",
       "    </tr>\n",
       "    <tr>\n",
       "      <th>3</th>\n",
       "      <td>000005</td>\n",
       "      <td>female</td>\n",
       "      <td>Asian</td>\n",
       "      <td>58</td>\n",
       "      <td>000005_female_Asian_58</td>\n",
       "    </tr>\n",
       "    <tr>\n",
       "      <th>4</th>\n",
       "      <td>000006</td>\n",
       "      <td>female</td>\n",
       "      <td>Asian</td>\n",
       "      <td>59</td>\n",
       "      <td>000006_female_Asian_59</td>\n",
       "    </tr>\n",
       "  </tbody>\n",
       "</table>\n",
       "</div>"
      ],
      "text/plain": [
       "       id  gender   race  age                    path\n",
       "0  000001  female  Asian   45  000001_female_Asian_45\n",
       "1  000002  female  Asian   52  000002_female_Asian_52\n",
       "2  000004    male  Asian   54    000004_male_Asian_54\n",
       "3  000005  female  Asian   58  000005_female_Asian_58\n",
       "4  000006  female  Asian   59  000006_female_Asian_59"
      ]
     },
     "execution_count": 49,
     "metadata": {},
     "output_type": "execute_result"
    }
   ],
   "source": [
    "train_meta.head()"
   ]
  },
  {
   "cell_type": "code",
   "execution_count": 50,
   "id": "e02ded28-8836-4062-bf14-17944c6fa37e",
   "metadata": {},
   "outputs": [
    {
     "data": {
      "text/plain": [
       "female    1658\n",
       "male      1042\n",
       "Name: gender, dtype: int64"
      ]
     },
     "execution_count": 50,
     "metadata": {},
     "output_type": "execute_result"
    }
   ],
   "source": [
    "train_meta.gender.value_counts()    #남녀 성비도 불균형"
   ]
  },
  {
   "cell_type": "code",
   "execution_count": 53,
   "id": "be7b8779-6166-4015-9453-03fb4c893316",
   "metadata": {},
   "outputs": [
    {
     "data": {
      "text/plain": [
       "Asian    2700\n",
       "Name: race, dtype: int64"
      ]
     },
     "execution_count": 53,
     "metadata": {},
     "output_type": "execute_result"
    }
   ],
   "source": [
    "train_meta.race.value_counts()"
   ]
  },
  {
   "cell_type": "code",
   "execution_count": 55,
   "id": "36add425-764e-44e2-aa6b-ce1bfb597e6e",
   "metadata": {},
   "outputs": [
    {
     "data": {
      "text/plain": [
       "(2700,)"
      ]
     },
     "execution_count": 55,
     "metadata": {},
     "output_type": "execute_result"
    }
   ],
   "source": [
    "train_meta.path.value_counts().shape"
   ]
  },
  {
   "cell_type": "code",
   "execution_count": 52,
   "id": "252b3a41-db3e-453a-83dd-a0a8568b3ec2",
   "metadata": {},
   "outputs": [
    {
     "name": "stdout",
     "output_type": "stream",
     "text": [
      "2700 13500 2700\n"
     ]
    }
   ],
   "source": [
    "incorrect_count = len([x for x in image_path if 'incorrect_mask' in x])\n",
    "correct_count = len([x for x in image_path if '/mask' in x])\n",
    "nomask_count = len([x for x in image_path if 'normal' in x])\n",
    "print(incorrect_count, correct_count, nomask_count)"
   ]
  },
  {
   "cell_type": "code",
   "execution_count": null,
   "id": "aaf2f771-0e8f-4b66-a44f-03753474df05",
   "metadata": {},
   "outputs": [],
   "source": [
    "#스카프도 마스크"
   ]
  }
 ],
 "metadata": {
  "kernelspec": {
   "display_name": "Python 3 (ipykernel)",
   "language": "python",
   "name": "python3"
  },
  "language_info": {
   "codemirror_mode": {
    "name": "ipython",
    "version": 3
   },
   "file_extension": ".py",
   "mimetype": "text/x-python",
   "name": "python",
   "nbconvert_exporter": "python",
   "pygments_lexer": "ipython3",
   "version": "3.8.5"
  }
 },
 "nbformat": 4,
 "nbformat_minor": 5
}
